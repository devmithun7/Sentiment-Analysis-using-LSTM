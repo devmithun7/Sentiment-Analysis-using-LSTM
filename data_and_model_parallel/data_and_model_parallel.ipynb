{
 "cells": [
  {
   "cell_type": "markdown",
   "id": "68c778b6-c191-4ce8-8b6b-45077fae6bc1",
   "metadata": {},
   "source": [
    "# DDP and Model Parallel"
   ]
  },
  {
   "cell_type": "markdown",
   "id": "29834300-bc22-4af0-ba69-7fcd21945b83",
   "metadata": {},
   "source": [
    "### Execute using 8 CPUs"
   ]
  },
  {
   "cell_type": "code",
   "execution_count": null,
   "id": "def94466-1c24-4371-8263-3e017ba95b26",
   "metadata": {},
   "outputs": [
    {
     "name": "stdout",
     "output_type": "stream",
     "text": [
      "Started Main Execution\n",
      "Client Dashboard:  http://127.0.0.1:8787/status\n",
      "2024-11-24 01:39:30,006 - INFO - Starting distributed training with the following parameters:\n",
      "Starting distributed training with the following parameters:\n",
      "2024-11-24 01:39:30,006 - INFO - Sequence length: 200\n",
      "Sequence length: 200\n",
      "2024-11-24 01:39:30,006 - INFO - Batch size: 32\n",
      "Batch size: 32\n",
      "2024-11-24 01:39:30,006 - INFO - Number of epochs: 3\n",
      "Number of epochs: 3\n",
      "2024-11-24 01:39:30,006 - INFO - World size: 8\n",
      "World size: 8\n",
      "[INFO] Rank 3/8 process initialized on port 12358\n",
      "[INFO] Rank 2/8 process initialized on port 12357\n",
      "[INFO] Rank 6/8 process initialized on port 12361\n",
      "[INFO] Rank 4/8 process initialized on port 12359\n",
      "[INFO] Rank 0/8 process initialized on port 12355\n",
      "[INFO] Rank 7/8 process initialized on port 12362\n",
      "[INFO] Rank 1/8 process initialized on port 12356\n",
      "[INFO] Rank 5/8 process initialized on port 12360\n",
      "epoch = 0, rank = 2, loss = 23.98392677307129, count = 10\n",
      "epoch = 0, rank = 6, loss = 17.651470184326172, count = 10\n",
      "epoch = 0, rank = 0, loss = 23.027454376220703, count = 10\n",
      "epoch = 0, rank = 5, loss = 16.372480392456055, count = 10\n",
      "epoch = 0, rank = 4, loss = 26.78606605529785, count = 10\n",
      "epoch = 0, rank = 3, loss = 17.937870025634766, count = 10\n",
      "epoch = 0, rank = 7, loss = 23.59726905822754, count = 10\n",
      "epoch = 0, rank = 1, loss = 29.24624252319336, count = 10\n",
      "epoch = 0, rank = 4, loss = 22.567279815673828, count = 20\n",
      "epoch = 0, rank = 5, loss = 15.269696235656738, count = 20\n",
      "epoch = 0, rank = 2, loss = 19.762187957763672, count = 20\n",
      "epoch = 0, rank = 6, loss = 15.877161026000977, count = 20\n",
      "epoch = 0, rank = 0, loss = 21.111173629760742, count = 20\n",
      "epoch = 0, rank = 3, loss = 16.04881477355957, count = 20\n",
      "epoch = 0, rank = 7, loss = 19.552576065063477, count = 20\n",
      "epoch = 0, rank = 1, loss = 25.050735473632812, count = 20\n",
      "epoch = 0, rank = 7, loss = 14.496429443359375, count = 30\n",
      "epoch = 0, rank = 4, loss = 14.542949676513672, count = 30\n",
      "epoch = 0, rank = 1, loss = 16.11488914489746, count = 30\n",
      "epoch = 0, rank = 5, loss = 15.191587448120117, count = 30\n",
      "epoch = 0, rank = 2, loss = 19.40536117553711, count = 30\n",
      "epoch = 0, rank = 0, loss = 18.413724899291992, count = 30\n",
      "epoch = 0, rank = 3, loss = 14.784778594970703, count = 30\n",
      "epoch = 0, rank = 6, loss = 17.42738914489746, count = 30\n",
      "epoch = 0, rank = 2, loss = 17.19024658203125, count = 40\n",
      "epoch = 0, rank = 1, loss = 18.727733612060547, count = 40\n",
      "epoch = 0, rank = 4, loss = 16.874631881713867, count = 40\n",
      "epoch = 0, rank = 6, loss = 17.510589599609375, count = 40\n",
      "epoch = 0, rank = 3, loss = 23.634592056274414, count = 40\n",
      "epoch = 0, rank = 5, loss = 18.091018676757812, count = 40\n",
      "epoch = 0, rank = 7, loss = 14.574263572692871, count = 40\n",
      "epoch = 0, rank = 0, loss = 20.66167640686035, count = 40\n",
      "epoch = 0, rank = 4, loss = 16.06071662902832, count = 50\n",
      "epoch = 0, rank = 1, loss = 17.740591049194336, count = 50\n",
      "epoch = 0, rank = 0, loss = 20.504318237304688, count = 50\n",
      "epoch = 0, rank = 2, loss = 16.260385513305664, count = 50\n",
      "epoch = 0, rank = 6, loss = 17.144390106201172, count = 50\n",
      "epoch = 0, rank = 3, loss = 21.717971801757812, count = 50\n",
      "epoch = 0, rank = 7, loss = 18.004039764404297, count = 50\n",
      "epoch = 0, rank = 5, loss = 13.852113723754883, count = 50\n",
      "epoch = 0, rank = 4, loss = 17.3302059173584, count = 60\n",
      "epoch = 0, rank = 1, loss = 16.313766479492188, count = 60\n",
      "epoch = 0, rank = 6, loss = 15.63591194152832, count = 60\n",
      "epoch = 0, rank = 0, loss = 17.162372589111328, count = 60\n",
      "epoch = 0, rank = 2, loss = 12.663328170776367, count = 60\n",
      "epoch = 0, rank = 5, loss = 17.91609764099121, count = 60\n",
      "epoch = 0, rank = 3, loss = 17.96422004699707, count = 60\n",
      "epoch = 0, rank = 7, loss = 14.157541275024414, count = 60\n",
      "epoch = 0, rank = 5, loss = 14.598248481750488, count = 70\n",
      "epoch = 0, rank = 1, loss = 14.397985458374023, count = 70\n",
      "epoch = 0, rank = 7, loss = 12.786331176757812, count = 70\n",
      "epoch = 0, rank = 3, loss = 17.19129180908203, count = 70\n",
      "epoch = 0, rank = 2, loss = 11.559967041015625, count = 70\n",
      "epoch = 0, rank = 6, loss = 16.696386337280273, count = 70\n",
      "epoch = 0, rank = 0, loss = 20.41412353515625, count = 70\n",
      "epoch = 0, rank = 4, loss = 11.78836441040039, count = 70\n",
      "epoch = 0, rank = 7, loss = 19.072751998901367, count = 80\n",
      "epoch = 0, rank = 0, loss = 16.813873291015625, count = 80\n",
      "epoch = 0, rank = 1, loss = 16.201393127441406, count = 80\n",
      "epoch = 0, rank = 2, loss = 16.05854606628418, count = 80\n",
      "epoch = 0, rank = 5, loss = 12.900235176086426, count = 80\n",
      "epoch = 0, rank = 3, loss = 10.287663459777832, count = 80\n",
      "epoch = 0, rank = 6, loss = 19.16661834716797, count = 80\n",
      "epoch = 0, rank = 4, loss = 16.387693405151367, count = 80\n",
      "epoch = 0, rank = 7, loss = 13.201878547668457, count = 90\n",
      "epoch = 0, rank = 3, loss = 16.943510055541992, count = 90\n",
      "epoch = 0, rank = 5, loss = 16.862051010131836, count = 90\n",
      "epoch = 0, rank = 2, loss = 13.8925199508667, count = 90\n",
      "epoch = 0, rank = 1, loss = 13.125163078308105, count = 90\n",
      "epoch = 0, rank = 6, loss = 14.094244003295898, count = 90\n",
      "epoch = 0, rank = 4, loss = 14.37790298461914, count = 90\n",
      "epoch = 0, rank = 0, loss = 13.285149574279785, count = 90\n",
      "epoch = 0, rank = 1, loss = 16.88629913330078, count = 100\n",
      "epoch = 0, rank = 5, loss = 14.54800033569336, count = 100\n",
      "epoch = 0, rank = 7, loss = 15.856293678283691, count = 100\n",
      "epoch = 0, rank = 3, loss = 12.132702827453613, count = 100\n",
      "epoch = 0, rank = 6, loss = 13.044600486755371, count = 100\n",
      "epoch = 0, rank = 2, loss = 17.859132766723633, count = 100\n",
      "epoch = 0, rank = 0, loss = 11.227619171142578, count = 100\n",
      "epoch = 0, rank = 4, loss = 12.74018669128418, count = 100\n",
      "epoch = 0, rank = 4, loss = 14.757545471191406, count = 110\n",
      "epoch = 0, rank = 7, loss = 12.910284042358398, count = 110\n",
      "epoch = 0, rank = 2, loss = 12.68842887878418, count = 110\n",
      "epoch = 0, rank = 5, loss = 14.762443542480469, count = 110\n",
      "epoch = 0, rank = 1, loss = 10.391640663146973, count = 110\n",
      "epoch = 0, rank = 0, loss = 9.728935241699219, count = 110\n",
      "epoch = 0, rank = 6, loss = 13.863273620605469, count = 110\n",
      "epoch = 0, rank = 3, loss = 12.07644271850586, count = 110\n",
      "epoch = 0, rank = 6, loss = 10.756982803344727, count = 120\n",
      "epoch = 0, rank = 3, loss = 11.059882164001465, count = 120\n",
      "epoch = 0, rank = 5, loss = 11.95931625366211, count = 120\n",
      "epoch = 0, rank = 4, loss = 17.09359359741211, count = 120\n",
      "epoch = 0, rank = 1, loss = 18.84140396118164, count = 120\n",
      "epoch = 0, rank = 7, loss = 16.302688598632812, count = 120\n",
      "epoch = 0, rank = 0, loss = 16.72142219543457, count = 120\n",
      "epoch = 0, rank = 2, loss = 10.817607879638672, count = 120\n",
      "epoch = 0, rank = 7, loss = 16.544687271118164, count = 130\n",
      "epoch = 0, rank = 4, loss = 19.189048767089844, count = 130\n",
      "epoch = 0, rank = 0, loss = 11.438323974609375, count = 130\n",
      "epoch = 0, rank = 1, loss = 12.149513244628906, count = 130\n",
      "epoch = 0, rank = 5, loss = 11.102588653564453, count = 130\n",
      "epoch = 0, rank = 3, loss = 13.137893676757812, count = 130\n",
      "epoch = 0, rank = 6, loss = 10.963412284851074, count = 130\n",
      "epoch = 0, rank = 2, loss = 11.367193222045898, count = 130\n",
      "epoch = 0, rank = 1, loss = 15.061347961425781, count = 140\n",
      "epoch = 0, rank = 0, loss = 9.448750495910645, count = 140\n",
      "epoch = 0, rank = 6, loss = 6.96328592300415, count = 140\n",
      "epoch = 0, rank = 7, loss = 14.256671905517578, count = 140\n",
      "epoch = 0, rank = 4, loss = 16.0893497467041, count = 140\n",
      "epoch = 0, rank = 2, loss = 12.366357803344727, count = 140\n",
      "epoch = 0, rank = 5, loss = 16.980833053588867, count = 140\n",
      "epoch = 0, rank = 3, loss = 14.167230606079102, count = 140\n"
     ]
    }
   ],
   "source": [
    "!python main.py 8"
   ]
  },
  {
   "cell_type": "markdown",
   "id": "cef8cd3a-abac-4562-b83e-99c7504b75bb",
   "metadata": {},
   "source": [
    "### Execute using 12 CPUs"
   ]
  },
  {
   "cell_type": "code",
   "execution_count": null,
   "id": "d375ae4a-2580-41b1-b51c-7f6d383b4501",
   "metadata": {},
   "outputs": [],
   "source": [
    "!python main.py 12"
   ]
  },
  {
   "cell_type": "markdown",
   "id": "ffff8967-87f2-4894-9882-dac92798e4ba",
   "metadata": {},
   "source": [
    "### Execute using 16 CPUs"
   ]
  },
  {
   "cell_type": "code",
   "execution_count": null,
   "id": "d9e0bfb9-1f77-4873-8b36-7f1eb64b8e57",
   "metadata": {},
   "outputs": [],
   "source": [
    "!python main.py 16"
   ]
  },
  {
   "cell_type": "markdown",
   "id": "b1c49f85-ea18-4124-ba7f-16d7e45f3408",
   "metadata": {},
   "source": [
    "### Execute using 20 CPUs"
   ]
  },
  {
   "cell_type": "code",
   "execution_count": null,
   "id": "1ce17ee0-b1ab-4739-b3f7-f0d37b69a15e",
   "metadata": {},
   "outputs": [],
   "source": [
    "!python main.py 20"
   ]
  },
  {
   "cell_type": "markdown",
   "id": "de085a15-0096-42db-8cb3-ce13e6c63d5e",
   "metadata": {},
   "source": [
    "### Execute using 24 CPUs"
   ]
  },
  {
   "cell_type": "code",
   "execution_count": null,
   "id": "6d96dfc3-1e97-4d81-bd22-c45d4b2891be",
   "metadata": {},
   "outputs": [],
   "source": [
    "!python main.py 24"
   ]
  },
  {
   "cell_type": "markdown",
   "id": "16bf495c-c6ac-489a-a06d-71db11af57f8",
   "metadata": {},
   "source": [
    "### Execute using 28 CPUs"
   ]
  },
  {
   "cell_type": "code",
   "execution_count": null,
   "id": "d07b1efa-e5d0-4520-ac67-e797c523b11a",
   "metadata": {},
   "outputs": [],
   "source": [
    "!python main.py 28"
   ]
  }
 ],
 "metadata": {
  "kernelspec": {
   "display_name": "Python 3 (ipykernel)",
   "language": "python",
   "name": "python3"
  },
  "language_info": {
   "codemirror_mode": {
    "name": "ipython",
    "version": 3
   },
   "file_extension": ".py",
   "mimetype": "text/x-python",
   "name": "python",
   "nbconvert_exporter": "python",
   "pygments_lexer": "ipython3",
   "version": "3.12.7"
  }
 },
 "nbformat": 4,
 "nbformat_minor": 5
}
