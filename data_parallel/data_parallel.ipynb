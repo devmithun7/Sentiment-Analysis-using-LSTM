{
 "cells": [
  {
   "cell_type": "markdown",
   "id": "f1e3e7c8-e46f-4832-a6fc-18d0ffa4edaa",
   "metadata": {},
   "source": [
    "# DDP Code Execution"
   ]
  },
  {
   "cell_type": "markdown",
   "id": "b2cec1fb-b7bc-4c5e-bf0d-26efd7217e0d",
   "metadata": {},
   "source": [
    "### Execute DDP using 8 CPUs"
   ]
  },
  {
   "cell_type": "code",
   "execution_count": null,
   "id": "56ec96f4-3de5-4179-9091-3895709b879a",
   "metadata": {},
   "outputs": [
    {
     "name": "stdout",
     "output_type": "stream",
     "text": [
      "Started Main Execution\n",
      "Client Dashboard:  http://127.0.0.1:8787/status\n",
      "2024-11-24 01:44:33,497 - INFO - Starting distributed training with the following parameters:\n",
      "Starting distributed training with the following parameters:\n",
      "2024-11-24 01:44:33,497 - INFO - Sequence length: 200\n",
      "Sequence length: 200\n",
      "2024-11-24 01:44:33,497 - INFO - Batch size: 32\n",
      "Batch size: 32\n",
      "2024-11-24 01:44:33,497 - INFO - Number of epochs: 3\n",
      "Number of epochs: 3\n",
      "2024-11-24 01:44:33,497 - INFO - World size: 8\n",
      "World size: 8\n",
      "[INFO] Rank 0/8 process initialized on port 12355\n",
      "[INFO] Rank 4/8 process initialized on port 12359\n",
      "[INFO] Rank 7/8 process initialized on port 12362\n",
      "[INFO] Rank 5/8 process initialized on port 12360\n",
      "[INFO] Rank 6/8 process initialized on port 12361\n",
      "[INFO] Rank 3/8 process initialized on port 12358\n",
      "[INFO] Rank 1/8 process initialized on port 12356\n",
      "[INFO] Rank 2/8 process initialized on port 12357\n",
      "epoch = 0, rank = 1, loss = 19.083951950073242, count = 10\n",
      "epoch = 0, rank = 2, loss = 16.02950096130371, count = 10\n",
      "epoch = 0, rank = 3, loss = 16.047269821166992, count = 10\n",
      "epoch = 0, rank = 6, loss = 20.961780548095703, count = 10\n",
      "epoch = 0, rank = 5, loss = 17.331836700439453, count = 10\n",
      "epoch = 0, rank = 7, loss = 21.180810928344727, count = 10\n",
      "epoch = 0, rank = 4, loss = 21.111452102661133, count = 10\n",
      "epoch = 0, rank = 0, loss = 21.240489959716797, count = 10\n",
      "epoch = 0, rank = 1, loss = 20.031957626342773, count = 20\n",
      "epoch = 0, rank = 3, loss = 19.751468658447266, count = 20\n",
      "epoch = 0, rank = 6, loss = 17.597719192504883, count = 20\n",
      "epoch = 0, rank = 2, loss = 20.528358459472656, count = 20\n",
      "epoch = 0, rank = 7, loss = 17.41800880432129, count = 20\n",
      "epoch = 0, rank = 5, loss = 16.900991439819336, count = 20\n",
      "epoch = 0, rank = 4, loss = 19.365501403808594, count = 20\n",
      "epoch = 0, rank = 0, loss = 22.1677188873291, count = 20\n",
      "epoch = 0, rank = 2, loss = 16.871488571166992, count = 30\n",
      "epoch = 0, rank = 6, loss = 23.4423828125, count = 30\n",
      "epoch = 0, rank = 1, loss = 13.134942054748535, count = 30\n",
      "epoch = 0, rank = 7, loss = 16.682140350341797, count = 30\n",
      "epoch = 0, rank = 3, loss = 13.843430519104004, count = 30\n",
      "epoch = 0, rank = 0, loss = 20.00372886657715, count = 30\n",
      "epoch = 0, rank = 4, loss = 14.055536270141602, count = 30\n",
      "epoch = 0, rank = 5, loss = 14.170100212097168, count = 30\n",
      "epoch = 0, rank = 6, loss = 16.54970932006836, count = 40\n",
      "epoch = 0, rank = 2, loss = 16.91800308227539, count = 40\n",
      "epoch = 0, rank = 3, loss = 23.00016212463379, count = 40\n",
      "epoch = 0, rank = 7, loss = 11.109818458557129, count = 40\n",
      "epoch = 0, rank = 4, loss = 21.433761596679688, count = 40\n",
      "epoch = 0, rank = 1, loss = 20.969654083251953, count = 40\n",
      "epoch = 0, rank = 5, loss = 18.98173713684082, count = 40\n",
      "epoch = 0, rank = 0, loss = 14.253424644470215, count = 40\n",
      "epoch = 0, rank = 3, loss = 22.542631149291992, count = 50\n",
      "epoch = 0, rank = 6, loss = 10.196195602416992, count = 50\n",
      "epoch = 0, rank = 7, loss = 11.58561897277832, count = 50\n",
      "epoch = 0, rank = 2, loss = 11.703544616699219, count = 50\n",
      "epoch = 0, rank = 5, loss = 21.283437728881836, count = 50\n",
      "epoch = 0, rank = 1, loss = 15.335144996643066, count = 50\n",
      "epoch = 0, rank = 4, loss = 20.511192321777344, count = 50\n",
      "epoch = 0, rank = 0, loss = 15.1909818649292, count = 50\n"
     ]
    }
   ],
   "source": [
    "!python main.py 8"
   ]
  },
  {
   "cell_type": "markdown",
   "id": "0b6efaa8-0d69-4911-8a54-80725ca679c6",
   "metadata": {},
   "source": [
    "### Execute DDP using 12 CPUs"
   ]
  },
  {
   "cell_type": "code",
   "execution_count": null,
   "id": "d6a63534-ebf1-4b3b-b3a3-1bb87dfbba64",
   "metadata": {},
   "outputs": [],
   "source": [
    "!python main.py 12"
   ]
  },
  {
   "cell_type": "markdown",
   "id": "7468f68f-53ca-4032-8918-b8894b733177",
   "metadata": {},
   "source": [
    "### Execute DDP using 16 CPUs"
   ]
  },
  {
   "cell_type": "code",
   "execution_count": null,
   "id": "6eb064c7-da77-4a1c-948c-0af904bf47af",
   "metadata": {},
   "outputs": [],
   "source": [
    "!python main.py 16"
   ]
  },
  {
   "cell_type": "markdown",
   "id": "d67ac8fd-4636-4734-b669-95b900f965c0",
   "metadata": {},
   "source": [
    "### Execute DDP using 20 CPUs"
   ]
  },
  {
   "cell_type": "code",
   "execution_count": null,
   "id": "fe9e5bba-cf93-4a1a-8829-fc14ee87451f",
   "metadata": {},
   "outputs": [],
   "source": [
    "!python main.py 20"
   ]
  },
  {
   "cell_type": "markdown",
   "id": "a765376e-c59b-4141-81a4-ff5d5f01f065",
   "metadata": {},
   "source": [
    "### Execute DDP using 24 CPUs"
   ]
  },
  {
   "cell_type": "code",
   "execution_count": null,
   "id": "50a54478-aab0-4b4f-ae1b-94448ad43253",
   "metadata": {},
   "outputs": [],
   "source": [
    "!python main.py 24"
   ]
  },
  {
   "cell_type": "markdown",
   "id": "e997fad4-6595-42fb-8a26-d052a28699ee",
   "metadata": {},
   "source": [
    "### Execute DDP using 28 CPUs"
   ]
  },
  {
   "cell_type": "code",
   "execution_count": null,
   "id": "9f94ee73-5e35-49d0-9e44-376fdebe1de1",
   "metadata": {},
   "outputs": [],
   "source": [
    "!python main.py 28"
   ]
  },
  {
   "cell_type": "code",
   "execution_count": null,
   "id": "a519ffdf-6d13-4d7c-8a20-0f947f1b333c",
   "metadata": {},
   "outputs": [],
   "source": []
  }
 ],
 "metadata": {
  "kernelspec": {
   "display_name": "Python 3 (ipykernel)",
   "language": "python",
   "name": "python3"
  },
  "language_info": {
   "codemirror_mode": {
    "name": "ipython",
    "version": 3
   },
   "file_extension": ".py",
   "mimetype": "text/x-python",
   "name": "python",
   "nbconvert_exporter": "python",
   "pygments_lexer": "ipython3",
   "version": "3.12.7"
  }
 },
 "nbformat": 4,
 "nbformat_minor": 5
}
